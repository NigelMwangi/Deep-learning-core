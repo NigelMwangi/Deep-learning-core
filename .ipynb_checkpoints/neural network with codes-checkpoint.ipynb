{
 "cells": [
  {
   "cell_type": "markdown",
   "id": "354c9eaa",
   "metadata": {},
   "source": [
    "                                                                                                             Nigel Mwangi\n",
    "\n",
    "\n",
    "# Deep Learning and Codes"
   ]
  },
  {
   "cell_type": "markdown",
   "id": "e31e7b85",
   "metadata": {},
   "source": [
    "Deep learning is a specialized subset of ML that utilizes neural networks with multiple layers (deep networks). These layers automatically extract high-level features from raw data, enabling remarkable accuracy and performance in tasks previously challenging for traditional algorithms."
   ]
  },
  {
   "cell_type": "markdown",
   "id": "d710567b",
   "metadata": {},
   "source": [
    "## Key Architectures in Deep Learning\n",
    "a) Convolutional Neural Networks (CNNs): Specialized for image and spatial data processing.\n",
    "\n",
    "b) Recurrent Neural Networks (RNNs): Designed for sequential data like time series or language.\n",
    "\n",
    "c) Transformer Models: Power modern NLP applications like GPT and BERT."
   ]
  },
  {
   "cell_type": "markdown",
   "id": "029a94b5",
   "metadata": {},
   "source": [
    "## Requirements Before building a neural network, several prerequisites must be met:\n",
    "1. Understanding of Neural Network Basics: A solid grasp of how neural networks function, including concepts such as neurons, activation functions, weights, biases, loss functions, and optimization techniques.\n",
    "2. Mathematical Background: Knowledge of linear algebra (matrices and vectors), calculus (gradients and derivatives), probability, and statistics is beneficial.\n",
    "3. Programming Knowledge: Proficiency in Python is highly recommended since most deep learning frameworks support Python.\n",
    "4. Computational Resources: A powerful CPU or GPU is required for efficient training of deep neural networks. Cloud services such as Google Colab, AWS, or Microsoft Azure provide additional computing power.\n",
    "5. Dataset Availability: A properly curated dataset is essential for training and evaluating the model."
   ]
  },
  {
   "cell_type": "markdown",
   "id": "94327f93",
   "metadata": {},
   "source": [
    "## Building a Neural Network\n",
    "\n",
    " Lets build a neural network"
   ]
  },
  {
   "cell_type": "code",
   "execution_count": 1,
   "id": "71ad2d33",
   "metadata": {},
   "outputs": [],
   "source": [
    "#importing libraries\n",
    "import tensorflow as tf\n",
    "from tensorflow import keras\n",
    "import numpy as np\n",
    "import matplotlib.pyplot as plt"
   ]
  },
  {
   "cell_type": "code",
   "execution_count": 2,
   "id": "d6b08b3a",
   "metadata": {},
   "outputs": [
    {
     "data": {
      "text/plain": [
       "<module 'keras.api._v2.keras.datasets' from 'C:\\\\Users\\\\Nigel Mwangi\\\\anaconda3\\\\envs\\\\learn-env\\\\lib\\\\site-packages\\\\keras\\\\api\\\\_v2\\\\keras\\\\datasets\\\\__init__.py'>"
      ]
     },
     "execution_count": 2,
     "metadata": {},
     "output_type": "execute_result"
    }
   ],
   "source": [
    "#getting a dataset to work with\n",
    "from tensorflow import keras\n",
    "keras.datasets"
   ]
  },
  {
   "cell_type": "markdown",
   "id": "d205fa4c",
   "metadata": {},
   "source": [
    "Decided to choose imbd, which is used for binary sentiment classification (positive or negative reviews) in movies."
   ]
  },
  {
   "cell_type": "code",
   "execution_count": 3,
   "id": "fa686473",
   "metadata": {},
   "outputs": [],
   "source": [
    "# Load the pre-processed data\n",
    "imdb = keras.datasets.imdb\n",
    "(x_train, y_train), (x_test, y_test) = imdb.load_data(num_words=10000)"
   ]
  },
  {
   "cell_type": "code",
   "execution_count": 4,
   "id": "707d1234",
   "metadata": {},
   "outputs": [],
   "source": [
    "# Pad all sequences to the same length for consistency\n",
    "maxlen = 256\n",
    "x_train = keras.preprocessing.sequence.pad_sequences(x_train, maxlen=maxlen)\n",
    "x_test = keras.preprocessing.sequence.pad_sequences(x_test, maxlen=maxlen)"
   ]
  },
  {
   "cell_type": "markdown",
   "id": "630ba520",
   "metadata": {},
   "source": [
    "The main reasoning for doing this,is to enable all the reviews the same length.\n",
    "So that the reviews shorter than 256 words get padded with zeros at the beginning.\n",
    "\n",
    "and\n",
    "\n",
    "the reviews longer than 256 words get truncated to keep only the last 256 words.\n",
    "\n",
    "### 3. Define the Model Architecture"
   ]
  },
  {
   "cell_type": "code",
   "execution_count": 5,
   "id": "aebc87b5",
   "metadata": {},
   "outputs": [],
   "source": [
    "# Defining the model architecture\n",
    "model = keras.Sequential([\n",
    "    keras.layers.Embedding(input_dim=10000, output_dim=32, input_length=maxlen),  # Convert word indices to dense vectors\n",
    "    keras.layers.GlobalAveragePooling1D(),  # Pooling layer to flatten the output\n",
    "    keras.layers.Dense(128, activation='relu'),  # Hidden layer\n",
    "    keras.layers.Dropout(0.2),  # Prevent overfitting\n",
    "    keras.layers.Dense(1, activation='sigmoid')  # Output layer (binary classification)\n",
    "])"
   ]
  },
  {
   "cell_type": "code",
   "execution_count": 6,
   "id": "90522fed",
   "metadata": {},
   "outputs": [],
   "source": [
    "# Compile the model\n",
    "model.compile(optimizer='adam',\n",
    "              loss='binary_crossentropy',\n",
    "              metrics=['accuracy'])"
   ]
  },
  {
   "cell_type": "code",
   "execution_count": 7,
   "id": "9562f565",
   "metadata": {},
   "outputs": [
    {
     "name": "stdout",
     "output_type": "stream",
     "text": [
      "Epoch 1/10\n",
      "782/782 [==============================] - 15s 18ms/step - loss: 0.4214 - accuracy: 0.8097 - val_loss: 0.2874 - val_accuracy: 0.8821\n",
      "Epoch 2/10\n",
      "782/782 [==============================] - 13s 17ms/step - loss: 0.2271 - accuracy: 0.9120 - val_loss: 0.2843 - val_accuracy: 0.8837\n",
      "Epoch 3/10\n",
      "782/782 [==============================] - 13s 16ms/step - loss: 0.1759 - accuracy: 0.9347 - val_loss: 0.3055 - val_accuracy: 0.8778\n",
      "Epoch 4/10\n",
      "782/782 [==============================] - 13s 17ms/step - loss: 0.1457 - accuracy: 0.9488 - val_loss: 0.3373 - val_accuracy: 0.8712\n",
      "Epoch 5/10\n",
      "782/782 [==============================] - 12s 16ms/step - loss: 0.1230 - accuracy: 0.9586 - val_loss: 0.3714 - val_accuracy: 0.8667\n",
      "Epoch 6/10\n",
      "782/782 [==============================] - 13s 17ms/step - loss: 0.1041 - accuracy: 0.9658 - val_loss: 0.4124 - val_accuracy: 0.8605\n",
      "Epoch 7/10\n",
      "782/782 [==============================] - 13s 16ms/step - loss: 0.0900 - accuracy: 0.9720 - val_loss: 0.4558 - val_accuracy: 0.8595\n",
      "Epoch 8/10\n",
      "782/782 [==============================] - 13s 17ms/step - loss: 0.0782 - accuracy: 0.9756 - val_loss: 0.5152 - val_accuracy: 0.8548\n",
      "Epoch 9/10\n",
      "782/782 [==============================] - 13s 17ms/step - loss: 0.0672 - accuracy: 0.9802 - val_loss: 0.5610 - val_accuracy: 0.8477\n",
      "Epoch 10/10\n",
      "782/782 [==============================] - 13s 17ms/step - loss: 0.0582 - accuracy: 0.9829 - val_loss: 0.6107 - val_accuracy: 0.8449\n"
     ]
    },
    {
     "data": {
      "text/plain": [
       "<keras.src.callbacks.History at 0x1fdff723df0>"
      ]
     },
     "execution_count": 7,
     "metadata": {},
     "output_type": "execute_result"
    }
   ],
   "source": [
    "# Train the model\n",
    "model.fit(x_train, y_train, epochs=10, validation_data=(x_test, y_test))"
   ]
  },
  {
   "cell_type": "markdown",
   "id": "ccec2451",
   "metadata": {},
   "source": [
    "### Evaluating model predictions"
   ]
  },
  {
   "cell_type": "code",
   "execution_count": 8,
   "id": "095e45b6",
   "metadata": {},
   "outputs": [
    {
     "name": "stdout",
     "output_type": "stream",
     "text": [
      "782/782 [==============================] - 2s 2ms/step - loss: 0.6107 - accuracy: 0.8449\n",
      "Accuracy: 0.8449\n",
      "782/782 [==============================] - 2s 2ms/step\n"
     ]
    }
   ],
   "source": [
    "#Evaluate and make predictions\n",
    "test_loss, test_acc = model.evaluate(x_test, y_test)\n",
    "print(f'Accuracy: {test_acc:.4f}')\n",
    "\n",
    "predictions = model.predict(x_test)"
   ]
  },
  {
   "cell_type": "code",
   "execution_count": 9,
   "id": "54ffb861",
   "metadata": {},
   "outputs": [
    {
     "name": "stdout",
     "output_type": "stream",
     "text": [
      "Predicted sentiment (probability): 0.0486\n",
      "Predicted label: Negative\n",
      "Actual label: Negative\n"
     ]
    }
   ],
   "source": [
    "#Visualize the Predictions made\n",
    "print(f'Predicted sentiment (probability): {predictions[0][0]:.4f}')\n",
    "print(f'Predicted label: {\"Positive\" if predictions[0][0] > 0.5 else \"Negative\"}')\n",
    "print(f'Actual label: {\"Positive\" if y_test[0] == 1 else \"Negative\"}')"
   ]
  },
  {
   "cell_type": "markdown",
   "id": "199f2147",
   "metadata": {},
   "source": [
    "Since it's text, we just show the predicted probability and label.\n",
    "\n",
    "\n",
    "This demonstrates a simple yet effective neural network for digit classification. The same methodology can be extended to more complex applications such as object detection, speech recognition, and medical diagnosis."
   ]
  },
  {
   "cell_type": "markdown",
   "id": "7c4ad0dc",
   "metadata": {},
   "source": [
    "# Tensorflow\n",
    "\n",
    "TensorFlow is an open-source machine learning framework developed by Google Brain. It is widely used for building and training deep learning models. TensorFlow provides a flexible ecosystem of tools, libraries, and community resources that allow researchers and developers to implement state-of-the-art machine learning applications efficiently."
   ]
  },
  {
   "cell_type": "code",
   "execution_count": 10,
   "id": "9f4c536e",
   "metadata": {},
   "outputs": [],
   "source": [
    "#importing libraries\n",
    "import tensorflow as tf\n",
    "import numpy as np"
   ]
  },
  {
   "cell_type": "code",
   "execution_count": 11,
   "id": "3bd0e916",
   "metadata": {},
   "outputs": [],
   "source": [
    "# Sample data: y = 3x + 2\n",
    "X_train = np.array([1, 2, 3, 4, 5], dtype=np.float32)\n",
    "y_train = np.array([5, 8, 11, 14, 17], dtype=np.float32)"
   ]
  },
  {
   "cell_type": "code",
   "execution_count": 12,
   "id": "2e5924ea",
   "metadata": {},
   "outputs": [],
   "source": [
    "# Initialize weights and bias\n",
    "W = tf.Variable(0.0)\n",
    "b = tf.Variable(0.0)"
   ]
  },
  {
   "cell_type": "code",
   "execution_count": 13,
   "id": "d53ff13b",
   "metadata": {},
   "outputs": [],
   "source": [
    "# Learning rate and optimizer\n",
    "learning_rate = 0.01\n",
    "optimizer = tf.optimizers.SGD(learning_rate=learning_rate)"
   ]
  },
  {
   "cell_type": "code",
   "execution_count": 35,
   "id": "71124925",
   "metadata": {},
   "outputs": [
    {
     "name": "stdout",
     "output_type": "stream",
     "text": [
      "Trained parameters: W = 0.7800, b = 0.2200\n",
      "Prediction for x = 6: y = 4.90\n"
     ]
    }
   ],
   "source": [
    "# Training loop\n",
    "# for i in range(1000):\n",
    "#     with tf.GradientTape() as tape:\n",
    "#         predictions = W * X_train + b\n",
    "#         loss = tf.reduce_mean(tf.square(predictions - y_train)) # MSE\n",
    "#         # Compute gradients and apply them\n",
    "# gradients = tape.gradient(loss, [W, b])\n",
    "# optimizer.apply_gradients(zip(gradients, [W, b]))\n",
    "\n",
    "# print(f\"Trained parameters: W = {W.numpy():.4f}, b = {b.numpy():.4f}\")\n",
    "# print(f\"Prediction for x = 6: y = {W.numpy()*6 + b.numpy():.2f}\")"
   ]
  },
  {
   "cell_type": "code",
   "execution_count": 14,
   "id": "1207679b",
   "metadata": {},
   "outputs": [
    {
     "name": "stdout",
     "output_type": "stream",
     "text": [
      "Trained parameters: W = 3.0102, b = 1.9633\n",
      "Prediction for x = 6: y = 20.02\n"
     ]
    }
   ],
   "source": [
    "# Training loop\n",
    "for i in range(1000):\n",
    "    with tf.GradientTape() as tape:\n",
    "        predictions = W * X_train + b\n",
    "        loss = tf.reduce_mean(tf.square(predictions - y_train))\n",
    "    gradients = tape.gradient(loss, [W, b])\n",
    "    optimizer.apply_gradients(zip(gradients, [W, b]))\n",
    "\n",
    "# Output\n",
    "print(f\"Trained parameters: W = {W.numpy():.4f}, b = {b.numpy():.4f}\")\n",
    "print(f\"Prediction for x = 6: y = {W.numpy() * 6 + b.numpy():.2f}\")"
   ]
  },
  {
   "cell_type": "markdown",
   "id": "1607d534",
   "metadata": {},
   "source": [
    "This example demonstrates how TensorFlow trains a simple linear regression model using gradient descent."
   ]
  },
  {
   "cell_type": "markdown",
   "id": "453d74f9",
   "metadata": {},
   "source": [
    "## Multi-Layer Perceptron (MLP)"
   ]
  },
  {
   "cell_type": "markdown",
   "id": "4fe3f282",
   "metadata": {},
   "source": [
    "Multi-Layer Perceptron (MLP) networks are a class of artificial neural networks that consist of multiple layers of neurons, including an input layer, one or more hidden layers, and an output layer. MLP networks use supervised learning techniques and backpropagation for training. These networks are widely used in various fields such as image recognition, speech processing, and financial forecasting."
   ]
  },
  {
   "cell_type": "markdown",
   "id": "9b323e3b",
   "metadata": {},
   "source": [
    "### Basics of Neural Networks\n",
    "\n",
    "A neural network is a computational model inspired by the structure and function of biological neural networks in the brain. It consists of layers of artificial neurons that process input data and produce outputs based on learned patterns.\n",
    "Components of a Neural Network\n",
    "\n",
    "1. Neurons: Basic processing units that receive weighted inputs, apply an activation function, and pass output to the next layer.\n",
    "2. Layers:\n",
    "-  Input Layer: Accepts raw data.\n",
    "-  Hidden Layers: Perform feature extraction and transformation.\n",
    "-  Output Layer: Produces the final prediction or classification.\n",
    "3. Weights and Biases: Adjustable parameters that determine how neurons process inputs.\n",
    "4. Activation Functions: Introduce non-linearity to enable learning of complex patterns.\n",
    "\n",
    "Example: A neural network predicting house prices based on features like location, size, and number of bedrooms."
   ]
  },
  {
   "cell_type": "markdown",
   "id": "8e46f131",
   "metadata": {},
   "source": [
    "## Hands-On: Using an MLP,  Multi-Layer Perceptron (MLP) networks\n",
    "## Practical Implementation\n"
   ]
  },
  {
   "cell_type": "code",
   "execution_count": 1,
   "id": "7d1c0fe3",
   "metadata": {},
   "outputs": [],
   "source": [
    "#importing libraries\n",
    "import tensorflow as tf\n",
    "from tensorflow.keras.models import Sequential\n",
    "from tensorflow.keras.layers import Dense, Flatten\n",
    "from tensorflow.keras.datasets import mnist"
   ]
  },
  {
   "cell_type": "code",
   "execution_count": 2,
   "id": "ad05d370",
   "metadata": {},
   "outputs": [],
   "source": [
    "# Load dataset\n",
    "(x_train, y_train), (x_test, y_test) = mnist.load_data()\n",
    "x_train, x_test = x_train / 255.0, x_test / 255.0"
   ]
  },
  {
   "cell_type": "markdown",
   "id": "af399d0b",
   "metadata": {},
   "source": [
    "#### Define Model"
   ]
  },
  {
   "cell_type": "code",
   "execution_count": 3,
   "id": "207b688f",
   "metadata": {},
   "outputs": [],
   "source": [
    "# Define MLP model\n",
    "model = Sequential([\n",
    "Flatten(input_shape=(28, 28)),\n",
    "Dense(128, activation='relu'),\n",
    "Dense(64, activation='relu'),\n",
    "Dense(10, activation='softmax')\n",
    "])"
   ]
  },
  {
   "cell_type": "code",
   "execution_count": 4,
   "id": "dc1bae6d",
   "metadata": {},
   "outputs": [
    {
     "name": "stdout",
     "output_type": "stream",
     "text": [
      "Epoch 1/10\n",
      "1875/1875 [==============================] - 14s 7ms/step - loss: 0.2438 - accuracy: 0.9292 - val_loss: 0.1332 - val_accuracy: 0.9587\n",
      "Epoch 2/10\n",
      "1875/1875 [==============================] - 14s 8ms/step - loss: 0.1016 - accuracy: 0.9692 - val_loss: 0.1033 - val_accuracy: 0.9694\n",
      "Epoch 3/10\n",
      "1875/1875 [==============================] - 13s 7ms/step - loss: 0.0715 - accuracy: 0.9779 - val_loss: 0.0712 - val_accuracy: 0.9769\n",
      "Epoch 4/10\n",
      "1875/1875 [==============================] - 12s 6ms/step - loss: 0.0525 - accuracy: 0.9832 - val_loss: 0.0757 - val_accuracy: 0.9772\n",
      "Epoch 5/10\n",
      "1875/1875 [==============================] - 8s 4ms/step - loss: 0.0409 - accuracy: 0.9868 - val_loss: 0.0841 - val_accuracy: 0.9748\n",
      "Epoch 6/10\n",
      "1875/1875 [==============================] - 8s 4ms/step - loss: 0.0342 - accuracy: 0.9890 - val_loss: 0.0831 - val_accuracy: 0.9765\n",
      "Epoch 7/10\n",
      "1875/1875 [==============================] - 6s 3ms/step - loss: 0.0268 - accuracy: 0.9907 - val_loss: 0.0910 - val_accuracy: 0.9756\n",
      "Epoch 8/10\n",
      "1875/1875 [==============================] - 8s 4ms/step - loss: 0.0222 - accuracy: 0.9926 - val_loss: 0.0927 - val_accuracy: 0.9766\n",
      "Epoch 9/10\n",
      "1875/1875 [==============================] - 9s 5ms/step - loss: 0.0209 - accuracy: 0.9926 - val_loss: 0.0815 - val_accuracy: 0.9786\n",
      "Epoch 10/10\n",
      "1875/1875 [==============================] - 7s 3ms/step - loss: 0.0197 - accuracy: 0.9933 - val_loss: 0.1044 - val_accuracy: 0.9772\n"
     ]
    },
    {
     "data": {
      "text/plain": [
       "<keras.src.callbacks.History at 0x22593be50c0>"
      ]
     },
     "execution_count": 4,
     "metadata": {},
     "output_type": "execute_result"
    }
   ],
   "source": [
    "# Compile and train model\n",
    "model.compile(optimizer='adam', loss='sparse_categorical_crossentropy', metrics=['accuracy'])\n",
    "model.fit(x_train, y_train, epochs=10, validation_data=(x_test, y_test))"
   ]
  },
  {
   "cell_type": "markdown",
   "id": "c14077a6",
   "metadata": {},
   "source": [
    "### Model Evaluation"
   ]
  },
  {
   "cell_type": "code",
   "execution_count": 5,
   "id": "eb33c926",
   "metadata": {},
   "outputs": [
    {
     "name": "stdout",
     "output_type": "stream",
     "text": [
      "313/313 [==============================] - 1s 2ms/step - loss: 0.1044 - accuracy: 0.9772\n",
      "Test accuracy: 0.9772\n"
     ]
    }
   ],
   "source": [
    "test_loss, test_acc = model.evaluate(x_test, y_test)\n",
    "print(f'Test accuracy: {test_acc:.4f}')\n"
   ]
  },
  {
   "cell_type": "markdown",
   "id": "e581e3b5",
   "metadata": {},
   "source": [
    "## Convolutional Neural Networks (CNN)"
   ]
  },
  {
   "cell_type": "markdown",
   "id": "0aeeb491",
   "metadata": {},
   "source": [
    "Convolutional Neural Networks (CNNs) are specialized deep learning architectures designed primarily for image processing tasks. They utilize a series of convolutional layers to extract hierarchical features from images, making them highly effective for visual recognition\n",
    "\n",
    "Working Example\n",
    "Let's implement a basic CNN using TensorFlow and Keras to classify handwritten digits from the MNIST dataset:"
   ]
  },
  {
   "cell_type": "code",
   "execution_count": 6,
   "id": "a36708a4",
   "metadata": {},
   "outputs": [],
   "source": [
    "#importing libraries\n",
    "import tensorflow as tf\n",
    "from tensorflow.keras import layers, models\n",
    "from tensorflow.keras.datasets import mnist\n"
   ]
  },
  {
   "cell_type": "code",
   "execution_count": 7,
   "id": "204662b1",
   "metadata": {},
   "outputs": [],
   "source": [
    "#load the data \n",
    "(x_train, y_train), (x_test, y_test) = mnist.load_data()\n",
    "x_train, x_test = x_train / 255.0, x_test / 255.0 # Normalize\n",
    "x_train = x_train.reshape(-1, 28, 28, 1)\n",
    "x_test = x_test.reshape(-1, 28, 28, 1)"
   ]
  },
  {
   "cell_type": "markdown",
   "id": "ace796ce",
   "metadata": {},
   "source": [
    "### Define the model"
   ]
  },
  {
   "cell_type": "code",
   "execution_count": 8,
   "id": "54fca27d",
   "metadata": {},
   "outputs": [],
   "source": [
    "# Define CNN model\n",
    "model = models.Sequential([\n",
    "layers.Conv2D(32, (3,3), activation='relu', input_shape=(28,28,1)),\n",
    "layers.MaxPooling2D((2,2)),\n",
    "layers.Conv2D(64, (3,3), activation='relu'),\n",
    "layers.MaxPooling2D((2,2)),\n",
    "layers.Flatten(),\n",
    "layers.Dense(128, activation='relu'),\n",
    "layers.Dense(10, activation='softmax')\n",
    "])"
   ]
  },
  {
   "cell_type": "markdown",
   "id": "045e9092",
   "metadata": {},
   "source": [
    "A small description, \n",
    "\n",
    "1. Conv2D -  filters of size 3×3, detects patterns/features\n",
    "\n",
    "2. MaxPooling2D - \tDownsamples to reduce size and computation\n",
    "\n",
    "3. Conv2D -\t64 filters, deeper features\n",
    "\n",
    "4. MaxPooling2D -\tDownsampling again\n",
    "\n",
    "5. Flatten() - \tConverts 2D output into 1D\n",
    "\n",
    "6. Dense(128) - Fully connected layer with 128 neurons\n",
    "7. Dense(10, softmax)\t- Output layer for 10 digit classes (0–9) with probabilities"
   ]
  },
  {
   "cell_type": "code",
   "execution_count": 9,
   "id": "ec37eede",
   "metadata": {},
   "outputs": [
    {
     "name": "stdout",
     "output_type": "stream",
     "text": [
      "Epoch 1/5\n",
      "1875/1875 [==============================] - 75s 39ms/step - loss: 0.1259 - accuracy: 0.9619 - val_loss: 0.0429 - val_accuracy: 0.9858\n",
      "Epoch 2/5\n",
      "1875/1875 [==============================] - 71s 38ms/step - loss: 0.0401 - accuracy: 0.9875 - val_loss: 0.0339 - val_accuracy: 0.9885\n",
      "Epoch 3/5\n",
      "1875/1875 [==============================] - 73s 39ms/step - loss: 0.0280 - accuracy: 0.9910 - val_loss: 0.0283 - val_accuracy: 0.9904\n",
      "Epoch 4/5\n",
      "1875/1875 [==============================] - 70s 37ms/step - loss: 0.0191 - accuracy: 0.9941 - val_loss: 0.0269 - val_accuracy: 0.9909\n",
      "Epoch 5/5\n",
      "1875/1875 [==============================] - 72s 38ms/step - loss: 0.0145 - accuracy: 0.9954 - val_loss: 0.0301 - val_accuracy: 0.9908\n"
     ]
    },
    {
     "data": {
      "text/plain": [
       "<keras.src.callbacks.History at 0x22596431d80>"
      ]
     },
     "execution_count": 9,
     "metadata": {},
     "output_type": "execute_result"
    }
   ],
   "source": [
    "# Compile and train the model\n",
    "model.compile(optimizer='adam', loss='sparse_categorical_crossentropy', metrics=['accuracy'])\n",
    "model.fit(x_train, y_train, epochs=5, validation_data=(x_test, y_test))"
   ]
  },
  {
   "cell_type": "code",
   "execution_count": 10,
   "id": "1ece3d7f",
   "metadata": {},
   "outputs": [
    {
     "name": "stdout",
     "output_type": "stream",
     "text": [
      "313/313 [==============================] - 5s 16ms/step - loss: 0.0301 - accuracy: 0.9908\n",
      "Test Accuracy: 0.9908\n"
     ]
    }
   ],
   "source": [
    "# Evaluate and print accuracy\n",
    "test_loss, test_acc = model.evaluate(x_test, y_test)\n",
    "print(f\"Test Accuracy: {test_acc:.4f}\")\n"
   ]
  },
  {
   "cell_type": "markdown",
   "id": "83878b6e",
   "metadata": {},
   "source": [
    "This likely means validation accuracy = 99.08% after training. Very high performance — CNNs perform much better than basic MLPs on image tasks."
   ]
  },
  {
   "cell_type": "markdown",
   "id": "774d4450",
   "metadata": {},
   "source": [
    "Application Areas\n",
    "CNNs are widely used in:\n",
    "-  Medical Imaging: Detecting anomalies in X-rays and MRIs.\n",
    "- Autonomous Vehicles: Enabling real-time object recognition.\n",
    "- Augmented Reality (AR): Enhancing user interactions with the environment.\n",
    "- Security Systems: Facial recognition and surveillance."
   ]
  },
  {
   "cell_type": "markdown",
   "id": "df1e1712",
   "metadata": {},
   "source": [
    "## Recurrent Neural Networks (RNN)\n",
    "\n",
    "A Recurrent Neural Network (RNN) is a class of artificial neural networks designed to recognize patterns in sequences of data, such as time series, speech, text, or video frames.\n",
    "\n",
    "Key Concept: Unlike traditional neural networks, RNNs have loops in them, allowing information to persist. This makes them suitable for sequential data where current output depends on previous computations."
   ]
  },
  {
   "cell_type": "markdown",
   "id": "a19dd093",
   "metadata": {},
   "source": [
    "### Practical Example: Text Sentiment Classification\n",
    "\n",
    "Problem:\n",
    "Classify the sentiment (positive/negative) of a sentence using an RNN.\n",
    "\n",
    "Dataset:\n",
    "A sample dataset like the IMDB movie review dataset (each entry is a review labeled as positive or negative)."
   ]
  },
  {
   "cell_type": "code",
   "execution_count": 11,
   "id": "f7abc590",
   "metadata": {},
   "outputs": [],
   "source": [
    "from tensorflow.keras.models import Sequential\n",
    "from tensorflow.keras.layers import Embedding, SimpleRNN, Dense\n",
    "from tensorflow.keras.datasets import imdb\n",
    "from tensorflow.keras.preprocessing.sequence import pad_sequences"
   ]
  },
  {
   "cell_type": "code",
   "execution_count": 12,
   "id": "40f907ec",
   "metadata": {},
   "outputs": [],
   "source": [
    "# Load dataset\n",
    "vocab_size = 10000\n",
    "(x_train, y_train), (x_test, y_test) = imdb.load_data(num_words=vocab_size)"
   ]
  },
  {
   "cell_type": "code",
   "execution_count": 13,
   "id": "7ad7ed2f",
   "metadata": {},
   "outputs": [],
   "source": [
    "# Pad sequences\n",
    "maxlen = 500\n",
    "x_train = pad_sequences(x_train, maxlen=maxlen)\n",
    "x_test = pad_sequences(x_test, maxlen=maxlen)"
   ]
  },
  {
   "cell_type": "code",
   "execution_count": 14,
   "id": "6eee4d74",
   "metadata": {},
   "outputs": [],
   "source": [
    "# Define model\n",
    "model = Sequential()\n",
    "model.add(Embedding(vocab_size, 32))\n",
    "model.add(SimpleRNN(32))\n",
    "model.add(Dense(1, activation='sigmoid'))"
   ]
  },
  {
   "cell_type": "markdown",
   "id": "55d5fffb",
   "metadata": {},
   "source": [
    "A small explanaton of the model,\n",
    "\n",
    "- Embedding(10000, 32)- Converts each word index into a 32-dimensional vector. Input shape becomes (batch_size, 500, 32)\n",
    "- SimpleRNN(32) - \tProcesses the sequence of embeddings using 32 recurrent units. Outputs a single vector (last hidden state)\n",
    "- Dense(1, activation='sigmoid') - \tOutputs a value between 0 and 1 — the probability that the review is positive"
   ]
  },
  {
   "cell_type": "code",
   "execution_count": 15,
   "id": "86cd6c7c",
   "metadata": {},
   "outputs": [
    {
     "name": "stdout",
     "output_type": "stream",
     "text": [
      "Epoch 1/5\n",
      "391/391 [==============================] - 110s 275ms/step - loss: 0.5972 - accuracy: 0.6626 - val_loss: 0.4362 - val_accuracy: 0.8084\n",
      "Epoch 2/5\n",
      "391/391 [==============================] - 110s 281ms/step - loss: 0.4179 - accuracy: 0.8081 - val_loss: 0.4011 - val_accuracy: 0.8307\n",
      "Epoch 3/5\n",
      "391/391 [==============================] - 109s 278ms/step - loss: 0.2837 - accuracy: 0.8846 - val_loss: 0.4370 - val_accuracy: 0.8178\n",
      "Epoch 4/5\n",
      "391/391 [==============================] - 104s 266ms/step - loss: 0.2024 - accuracy: 0.9222 - val_loss: 0.4566 - val_accuracy: 0.8258\n",
      "Epoch 5/5\n",
      "391/391 [==============================] - 106s 270ms/step - loss: 0.0945 - accuracy: 0.9680 - val_loss: 0.5292 - val_accuracy: 0.8175\n"
     ]
    },
    {
     "data": {
      "text/plain": [
       "<keras.src.callbacks.History at 0x22594e1c1c0>"
      ]
     },
     "execution_count": 15,
     "metadata": {},
     "output_type": "execute_result"
    }
   ],
   "source": [
    "# Compile and train\n",
    "model.compile(loss='binary_crossentropy', optimizer='adam', metrics=['accuracy'])\n",
    "model.fit(x_train, y_train, epochs=5, batch_size=64, validation_data=(x_test, y_test))"
   ]
  },
  {
   "cell_type": "code",
   "execution_count": 16,
   "id": "ba9b1626",
   "metadata": {},
   "outputs": [
    {
     "name": "stdout",
     "output_type": "stream",
     "text": [
      "782/782 [==============================] - 30s 38ms/step - loss: 0.5292 - accuracy: 0.8175\n",
      "Test Accuracy: 0.8175\n"
     ]
    }
   ],
   "source": [
    "# Evaluate the model\n",
    "test_loss, test_acc = model.evaluate(x_test, y_test)\n",
    "\n",
    "# Print the test accuracy\n",
    "print(f\"Test Accuracy: {test_acc:.4f}\")\n"
   ]
  },
  {
   "cell_type": "markdown",
   "id": "f0977892",
   "metadata": {},
   "source": [
    "This shows that the trained RNN correctly classifies 81.75% of the IMDB reviews on the test set. This is decent performance, especially for a basic SimpleRNN. \n",
    "\n",
    "Benefits of RNN:\n",
    "- Captures context and sequence (e.g., \"not good\" vs \"very good\").\n",
    "- Learns temporal dependencies that MLPs would miss."
   ]
  },
  {
   "cell_type": "markdown",
   "id": "152fcd10",
   "metadata": {},
   "source": [
    "## Long Short-Term Memory (LSTM)\n",
    "\n",
    "LSTM is a special type of Recurrent Neural Network (RNN) capable of learning long-term dependencies. It was introduced by Hochreiter and Schmidhuber in 1997 to address the vanishing gradient problem common in standard RNNs.\n",
    "\n",
    "Core Idea: LSTM introduces a memory cell and gates (input, forget, and output) that regulate the flow of information, allowing it to retain or forget information over long sequences."
   ]
  },
  {
   "cell_type": "markdown",
   "id": "878ff436",
   "metadata": {},
   "source": [
    "Working Example: Sentiment Analysis with LSTM\n",
    "\n",
    "Dataset: We'll use the IMDB movie review dataset for binary sentiment classification (positive or negative).\n",
    "\n",
    "Hands-On practical with working with LSTM"
   ]
  },
  {
   "cell_type": "code",
   "execution_count": 17,
   "id": "064a3aec",
   "metadata": {},
   "outputs": [],
   "source": [
    "from tensorflow.keras.datasets import imdb\n",
    "from tensorflow.keras.models import Sequential\n",
    "from tensorflow.keras.layers import Embedding, LSTM, Dense\n",
    "from tensorflow.keras.preprocessing.sequence import pad_sequences\n"
   ]
  },
  {
   "cell_type": "code",
   "execution_count": 18,
   "id": "49622646",
   "metadata": {},
   "outputs": [],
   "source": [
    "# Load IMDB dataset (pre-tokenized)\n",
    "vocab_size = 10000\n",
    "maxlen = 500\n",
    "(x_train, y_train), (x_test, y_test) = imdb.load_data(num_words=vocab_size)"
   ]
  },
  {
   "cell_type": "code",
   "execution_count": 19,
   "id": "55d45ccc",
   "metadata": {},
   "outputs": [],
   "source": [
    "# Pad sequences to have equal length\n",
    "x_train = pad_sequences(x_train, maxlen=maxlen)\n",
    "x_test = pad_sequences(x_test, maxlen=maxlen)"
   ]
  },
  {
   "cell_type": "markdown",
   "id": "498ed967",
   "metadata": {},
   "source": [
    "Aan explanation on this pad sequences, \n",
    "\n",
    "- Ensures that all sequences are exactly 500 tokens long.\n",
    "\n",
    "- Shorter reviews are zero-padded at the beginning.\n",
    "\n",
    "This is required so the model receives a consistent input shape: (batch_size, 500)"
   ]
  },
  {
   "cell_type": "code",
   "execution_count": 20,
   "id": "6e85cea7",
   "metadata": {},
   "outputs": [],
   "source": [
    "# Define LSTM model\n",
    "model = Sequential()\n",
    "model.add(Embedding(vocab_size, 64, input_length=maxlen))\n",
    "model.add(LSTM(64)) # Main LSTM layer\n",
    "model.add(Dense(1, activation='sigmoid')) # Output layer"
   ]
  },
  {
   "cell_type": "markdown",
   "id": "67539dd4",
   "metadata": {},
   "source": [
    "A small explanation on the model is that,\n",
    "\n",
    "- Embedding\t- Transforms word indices into dense vectors (64-dim). Input: (batch_size, 500) → Output: (batch_size, 500, 64)\n",
    "- LSTM(64) - Learns sequential patterns using 64 memory cells. Processes all 500 time steps and outputs a 64-length vector\n",
    "- Dense(1, sigmoid) - Outputs a probability between 0 and 1 for binary classification"
   ]
  },
  {
   "cell_type": "code",
   "execution_count": 21,
   "id": "02302b7f",
   "metadata": {},
   "outputs": [],
   "source": [
    "# Compile model\n",
    "model.compile(optimizer='adam', loss='binary_crossentropy', metrics=['accuracy'])"
   ]
  },
  {
   "cell_type": "markdown",
   "id": "0d909f05",
   "metadata": {},
   "source": [
    "\n",
    "- Adam optimizer, shows Efficient gradient descent.\n",
    "- Binary crossentropy, Appropriate for binary output.\n",
    "- Accuracy, giving the Evaluation metric."
   ]
  },
  {
   "cell_type": "code",
   "execution_count": 22,
   "id": "b0cce52c",
   "metadata": {},
   "outputs": [
    {
     "name": "stdout",
     "output_type": "stream",
     "text": [
      "Epoch 1/3\n",
      "391/391 [==============================] - 447s 1s/step - loss: 0.4221 - accuracy: 0.7985 - val_loss: 0.4294 - val_accuracy: 0.8319\n",
      "Epoch 2/3\n",
      "391/391 [==============================] - 499s 1s/step - loss: 0.2614 - accuracy: 0.8988 - val_loss: 0.3318 - val_accuracy: 0.8599\n",
      "Epoch 3/3\n",
      "391/391 [==============================] - 425s 1s/step - loss: 0.1988 - accuracy: 0.9260 - val_loss: 0.3373 - val_accuracy: 0.8703\n"
     ]
    },
    {
     "data": {
      "text/plain": [
       "<keras.src.callbacks.History at 0x225968b7970>"
      ]
     },
     "execution_count": 22,
     "metadata": {},
     "output_type": "execute_result"
    }
   ],
   "source": [
    "# Train model\n",
    "model.fit(x_train, y_train, epochs=3, batch_size=64, validation_data=(x_test, y_test))"
   ]
  },
  {
   "cell_type": "markdown",
   "id": "f7c8deb6",
   "metadata": {},
   "source": [
    "#### Evaluation of what our model shows us\n"
   ]
  },
  {
   "cell_type": "code",
   "execution_count": 23,
   "id": "62017700",
   "metadata": {},
   "outputs": [
    {
     "name": "stdout",
     "output_type": "stream",
     "text": [
      "782/782 [==============================] - 119s 152ms/step - loss: 0.3373 - accuracy: 0.8703\n",
      "Test Accuracy: 0.8703\n"
     ]
    }
   ],
   "source": [
    "loss, accuracy = model.evaluate(x_test, y_test)\n",
    "print(f\"Test Accuracy: {accuracy:.4f}\")\n"
   ]
  },
  {
   "cell_type": "markdown",
   "id": "a5a88f87",
   "metadata": {},
   "source": [
    "The model correctly predicted the sentiment (positive or negative) for approximately 87.03% of the 25,000 reviews in the test dataset.\n",
    "\n",
    "An accuracy above 85% using just a basic LSTM without any additional enhancements (like dropout, bidirectional layers, or pre-trained embeddings) is quite solid."
   ]
  },
  {
   "cell_type": "markdown",
   "id": "79fa0fe6",
   "metadata": {},
   "source": [
    "## Recursive Neural Networks (RecNNs)\n",
    "\n",
    "Recursion is a programming concept where a function calls itself to solve a problem by breaking it down into smaller sub-problems of the same type.\n",
    "\n",
    "Recursive Neural Networks (not to be confused with Recurrent Neural Networks) are deep learning models designed for structured input, such as trees. They apply the same set of weights recursively over a hierarchical structure (typically a tree) to extract structured representations."
   ]
  },
  {
   "cell_type": "markdown",
   "id": "054e4a4d",
   "metadata": {},
   "source": [
    "How Recursive Neural Networks Work\n",
    "-  Input: A parse tree or syntactic structure.\n",
    "- Process: Combine leaf node embeddings into parent nodes recursively using a neural function.\n",
    "- Output: A representation at the root node that summarizes the whole structure (e.g., a sentence)."
   ]
  },
  {
   "cell_type": "markdown",
   "id": "96e228fc",
   "metadata": {},
   "source": [
    "Hands-On: Using a Recursive Neural Network (Simulated Example in PyTorch)\n",
    "\n",
    "Recursive Neural Networks aren't built into high-level APIs like Keras or PyTorch out-of-the-box because they require custom tree data structures. Below is a simplified simulated example of how you might implement one manually for binary parse trees.\n",
    "\n",
    "Example: Binary Tree Sentiment Classification"
   ]
  },
  {
   "cell_type": "code",
   "execution_count": 1,
   "id": "72453a3d",
   "metadata": {},
   "outputs": [],
   "source": [
    "# installing pytorch \n",
    "#!pip install torch torchvision torchaudio\n"
   ]
  },
  {
   "cell_type": "code",
   "execution_count": 2,
   "id": "d69ce7a7",
   "metadata": {},
   "outputs": [],
   "source": [
    "# importing libraries\n",
    "import torch\n",
    "import torch.nn as nn\n",
    "import torch.nn.functional as F"
   ]
  },
  {
   "cell_type": "code",
   "execution_count": 4,
   "id": "b28d2d51",
   "metadata": {},
   "outputs": [],
   "source": [
    "# Sample tree node class\n",
    "class TreeNode:\n",
    "    def __init__(self, left=None, right=None, value=None):\n",
    "        self.left = left\n",
    "        self.right = right\n",
    "        self.value = value # Word embedding or input vector"
   ]
  },
  {
   "cell_type": "markdown",
   "id": "0feb6a8a",
   "metadata": {},
   "source": [
    "Explanation on this is, \n",
    "- TreeNode\tRepresents a node in a syntax/parse tree\n",
    "- value\tA tensor (vector) holding word or phrase encoding\n",
    "- left/right\tPointers to child nodes (for recursive traversal)\n",
    "- Used in\tSentiment analysis, syntax trees, question answering"
   ]
  },
  {
   "cell_type": "code",
   "execution_count": 5,
   "id": "2fc672fd",
   "metadata": {},
   "outputs": [],
   "source": [
    "# Recursive Neural Network\n",
    "class RecNN(nn.Module):\n",
    "    def __init__(self, input_dim, hidden_dim):\n",
    "        super(RecNN, self).__init__()\n",
    "        self.W = nn.Linear(2 * hidden_dim, hidden_dim)\n",
    "        self.embedding = nn.Embedding(10000, input_dim)\n",
    "        self.projection = nn.Linear(input_dim, hidden_dim)\n",
    "        \n",
    "    def forward(self, node):\n",
    "        if node.left is None and node.right is None:\n",
    "            # Leaf node: use embedding\n",
    "            embed = self.embedding(torch.tensor([node.value]))\n",
    "            return self.projection(embed).squeeze(0)\n",
    "        else:\n",
    "            left_vec = self.forward(node.left)\n",
    "            right_vec = self.forward(node.right)\n",
    "            combined = torch.cat((left_vec, right_vec), dim=-1)\n",
    "            return F.relu(self.W(combined))"
   ]
  },
  {
   "cell_type": "markdown",
   "id": "17b38dde",
   "metadata": {},
   "source": [
    "Also,\n",
    "- self.embedding\tTurns word indices into dense vectors (input_dim)\n",
    "- self.projection\tProjects embedding into hidden_dim space (for recursive operations)\n",
    "- self.W\tComposes two child vectors into a parent vector\n",
    "\n",
    "Leaf nodes: Get embedded word vector → projected to hidden_dim\n",
    "\n",
    "Non-leaf nodes:\n",
    "\n",
    "- Recursively get left and right vectors\n",
    "- Concatenate them: left_vec ,  right_vec]\n",
    "- Apply linear layer and ReLU activation to get the parent vector"
   ]
  },
  {
   "cell_type": "code",
   "execution_count": 7,
   "id": "776ffac0",
   "metadata": {},
   "outputs": [],
   "source": [
    "# Tree structure: (great (not movie))\n",
    "left_leaf = TreeNode(value=2)     # \"not\"\n",
    "right_leaf = TreeNode(value=3)    # \"movie\"\n",
    "intermediate = TreeNode(left=left_leaf, right=right_leaf)  # (not movie)\n",
    "root = TreeNode(left=TreeNode(value=1), right=intermediate)  # (great (not movie))\n"
   ]
  },
  {
   "cell_type": "markdown",
   "id": "48d2c4f5",
   "metadata": {},
   "source": [
    "    root\n",
    "         /    \\\n",
    "     \"great\"   node\n",
    "               /   \\\n",
    "           \"not\"  \"movie\""
   ]
  },
  {
   "cell_type": "code",
   "execution_count": 8,
   "id": "554987b3",
   "metadata": {},
   "outputs": [
    {
     "name": "stdout",
     "output_type": "stream",
     "text": [
      "Final representation vector: tensor([0.0000, 0.0000, 0.3416, 0.2859, 0.0000, 0.4300, 0.0000, 0.0000, 0.0000,\n",
      "        0.0000, 0.4691, 0.2243, 0.1359, 0.0262, 0.0000, 0.0000, 0.0000, 0.0000,\n",
      "        0.3079, 0.4697, 0.1843, 0.1431, 0.0000, 0.1022, 0.0000, 0.3758, 0.0000,\n",
      "        0.2991, 0.0000, 0.0847, 0.1217, 0.0000, 0.0000, 0.0000, 0.0000, 0.0000,\n",
      "        0.0505, 0.9173, 0.0000, 0.6391, 0.0000, 0.0000, 0.0000, 0.0000, 0.0653,\n",
      "        0.5322, 0.0908, 0.1840, 0.0767, 0.0000, 0.2456, 0.0000, 0.0000, 0.0000,\n",
      "        0.0000, 0.0000, 0.2046, 0.0000, 0.0000, 0.0000, 0.0000, 0.0000, 0.0000,\n",
      "        0.0981], grad_fn=<ReluBackward0>)\n"
     ]
    }
   ],
   "source": [
    "model = RecNN(input_dim=50, hidden_dim=64)\n",
    "sentence_vector = model(root)\n",
    "\n",
    "print(\"Final representation vector:\", sentence_vector)"
   ]
  },
  {
   "cell_type": "markdown",
   "id": "f078131b",
   "metadata": {},
   "source": [
    "This runs a recursive forward pass from leaves up to the root.\n",
    "\n",
    "The result is a 64-dimensional vector that represents the entire sentence."
   ]
  },
  {
   "cell_type": "markdown",
   "id": "ddeb3cd2",
   "metadata": {},
   "source": [
    "Lets give a short visualization to understand what is happening,"
   ]
  },
  {
   "cell_type": "code",
   "execution_count": 10,
   "id": "95ee7d21",
   "metadata": {},
   "outputs": [
    {
     "data": {
      "image/png": "[encoded data removed]",
      "text/plain": [
       "<Figure size 1200x400 with 1 Axes>"
      ]
     },
     "metadata": {},
     "output_type": "display_data"
    }
   ],
   "source": [
    "# Detach from computation graph and convert to numpy\n",
    "vec = sentence_vector.detach().numpy()\n",
    "\n",
    "# Plot the 64-dimensional sentence vector\n",
    "plt.figure(figsize=(12, 4))\n",
    "plt.bar(range(len(vec)), vec)\n",
    "plt.title(\"Final Sentence Vector (64 dimensions)\")\n",
    "plt.xlabel(\"Dimension Index\")\n",
    "plt.ylabel(\"Activation Value\")\n",
    "plt.grid(True)\n",
    "plt.show()\n"
   ]
  },
  {
   "cell_type": "markdown",
   "id": "e3af1b70",
   "metadata": {},
   "source": [
    "Each bar represents the value of a single neuron in the final vector output of your RecNN.\n",
    "\n",
    "Peaks in the plot indicate strong activations, potentially tied to certain patterns in the sentence.\n",
    "\n"
   ]
  },
  {
   "cell_type": "code",
   "execution_count": null,
   "id": "557599ab",
   "metadata": {},
   "outputs": [],
   "source": []
  }
 ],
 "metadata": {
  "kernelspec": {
   "display_name": "Python 3 (ipykernel)",
   "language": "python",
   "name": "python3"
  },
  "language_info": {
   "codemirror_mode": {
    "name": "ipython",
    "version": 3
   },
   "file_extension": ".py",
   "mimetype": "text/x-python",
   "name": "python",
   "nbconvert_exporter": "python",
   "pygments_lexer": "ipython3",
   "version": "3.10.11"
  }
 },
 "nbformat": 4,
 "nbformat_minor": 5
}
